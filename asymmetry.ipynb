{
 "cells": [
  {
   "cell_type": "code",
   "execution_count": 2,
   "id": "initial_id",
   "metadata": {
    "collapsed": true,
    "ExecuteTime": {
     "end_time": "2023-12-04T12:39:32.381312300Z",
     "start_time": "2023-12-04T12:39:29.575921800Z"
    }
   },
   "outputs": [],
   "source": [
    "import pickle\n",
    "import os\n",
    "\n",
    "import mne\n",
    "from mne import create_info\n",
    "from mne.io import RawArray\n",
    "\n",
    "import numpy as np\n",
    "import pandas as pd\n",
    "import seaborn as sns\n",
    "import matplotlib.pyplot as plt\n",
    "\n",
    "import torch\n",
    "import torch.nn as nn"
   ]
  },
  {
   "cell_type": "code",
   "execution_count": 1,
   "outputs": [
    {
     "name": "stdout",
     "output_type": "stream",
     "text": [
      "1.23.1\n"
     ]
    }
   ],
   "source": [
    "import numpy as np\n",
    "print (np.__version__)"
   ],
   "metadata": {
    "collapsed": false,
    "ExecuteTime": {
     "end_time": "2023-12-04T12:39:27.511133400Z",
     "start_time": "2023-12-04T12:39:27.504305100Z"
    }
   },
   "id": "b66b53a45aa24773"
  },
  {
   "cell_type": "code",
   "execution_count": 3,
   "outputs": [],
   "source": [
    "np.set_printoptions(precision=4)"
   ],
   "metadata": {
    "collapsed": false,
    "ExecuteTime": {
     "end_time": "2023-12-04T12:39:37.306804100Z",
     "start_time": "2023-12-04T12:39:37.283360800Z"
    }
   },
   "id": "8b5a9741376eeaf7"
  },
  {
   "cell_type": "code",
   "execution_count": 4,
   "outputs": [
    {
     "name": "stdout",
     "output_type": "stream",
     "text": [
      "cuda\n"
     ]
    }
   ],
   "source": [
    "device = torch.device(\"cuda\" if torch.cuda.is_available() else \"cpu\")\n",
    "print(device)"
   ],
   "metadata": {
    "collapsed": false,
    "ExecuteTime": {
     "end_time": "2023-12-04T12:39:37.892270400Z",
     "start_time": "2023-12-04T12:39:37.824086400Z"
    }
   },
   "id": "3122eef042a8e6bb"
  },
  {
   "cell_type": "code",
   "execution_count": 12,
   "outputs": [],
   "source": [
    "data_file = os.path.join(f'./data2/саша_открытые_глаза/OpenBCI-RAW-2023-11-01_17-00-13.txt')\n",
    "with open(data_file, 'r') as in_f:\n",
    "    header = True\n",
    "    while header:\n",
    "        line = next(in_f)\n",
    "        if line[0] != '%':\n",
    "            header = False\n",
    "    data_arr = []\n",
    "    for line in in_f:\n",
    "        stripped_line = line.strip(' \\n').split(', ')\n",
    "        data_arr.append([float(stripped_line[0]),float(stripped_line[1]), float(stripped_line[2]), float(stripped_line[3]), float(stripped_line[4]), float(stripped_line[5]), float(stripped_line[6]),float(stripped_line[7]),float(stripped_line[8]), float(stripped_line[22]), stripped_line[24]])\n",
    "\n",
    "    columns = [\"Sample Index\",\"EXG Channel 0\", \"EXG Channel 1\", \"EXG Channel 2\", \"EXG Channel 3\", \"EXG Channel 4\", \"EXG Channel 5\", \"EXG Channel 6\", \"EXG Channel 7\", \"Timestamp\", \"Timestamp Formatted\"]\n",
    "    dict_columns = {k: [v[i] for v in data_arr] for i, k in enumerate(columns)}\n",
    "\n",
    "    df_file = pd.DataFrame.from_dict(dict_columns)\n",
    "    df_file.to_csv(f'adelya.csv', index=False)\n",
    "\n"
   ],
   "metadata": {
    "collapsed": false,
    "ExecuteTime": {
     "end_time": "2023-12-04T10:13:11.702915500Z",
     "start_time": "2023-12-04T10:13:09.276407500Z"
    }
   },
   "id": "15b746b53eb5191"
  },
  {
   "cell_type": "code",
   "execution_count": 60,
   "outputs": [],
   "source": [
    "df = pd.read_csv(\"./data3/vadim.csv\")"
   ],
   "metadata": {
    "collapsed": false,
    "ExecuteTime": {
     "end_time": "2023-12-04T12:48:10.833761900Z",
     "start_time": "2023-12-04T12:48:10.692198200Z"
    }
   },
   "id": "539eaf13ad9a149f"
  },
  {
   "cell_type": "code",
   "execution_count": 61,
   "outputs": [
    {
     "data": {
      "text/plain": "     Sample Index  EXG Channel 0  EXG Channel 1  EXG Channel 2  EXG Channel 3  \\\n0             0.0       0.000000       0.000000       0.000000       0.000000   \n1             1.0   39600.518596   47848.200542   32193.888091   36826.264778   \n2             2.0   39605.860663   47849.049908   32199.096048   36827.248255   \n3             3.0   39613.326146   47839.505713   32192.658745   36832.210342   \n4             4.0   39613.907291   47830.497960   32185.483835   36832.456211   \n..            ...            ...            ...            ...            ...   \n995         207.0   38903.948832   47795.428073   32158.929963   37448.023253   \n996         208.0   38910.944928   47801.016009   32178.554795   37459.400291   \n997         209.0   38917.136361   47811.074294   32173.279783   37475.560603   \n998         210.0   38936.940007   47813.644745   32165.479024   37484.881280   \n999         211.0   38912.107219   47800.054884   32154.191393   37467.268105   \n\n     EXG Channel 4  EXG Channel 5  EXG Channel 6  EXG Channel 7     Timestamp  \\\n0         0.000000       0.000000       0.000000       0.000000  1.699550e+09   \n1     79920.316329   37740.898161 -187500.022352 -187500.022352  1.699550e+09   \n2     79924.540809   37748.229533 -187500.022352 -187500.022352  1.699550e+09   \n3     79928.742937   37831.690947 -187500.022352 -187500.022352  1.699550e+09   \n4     79924.227884   37858.803613 -187500.022352 -187500.022352  1.699550e+09   \n..             ...            ...            ...            ...           ...   \n995   79188.408457   37159.663398 -187500.022352 -187500.022352  1.699550e+09   \n996   79196.522140   37150.454480 -187500.022352 -187500.022352  1.699550e+09   \n997   79204.926396   37227.120963 -187500.022352 -187500.022352  1.699550e+09   \n998   79217.376318   37294.176196 -187500.022352 -187500.022352  1.699550e+09   \n999   79196.768009   37252.780766 -187500.022352 -187500.022352  1.699550e+09   \n\n         Timestamp Formatted  \n0    2023-11-09 20:10:31.202  \n1    2023-11-09 20:10:31.252  \n2    2023-11-09 20:10:31.252  \n3    2023-11-09 20:10:31.252  \n4    2023-11-09 20:10:31.252  \n..                       ...  \n995  2023-11-09 20:10:39.327  \n996  2023-11-09 20:10:39.343  \n997  2023-11-09 20:10:39.375  \n998  2023-11-09 20:10:39.375  \n999  2023-11-09 20:10:39.391  \n\n[1000 rows x 11 columns]",
      "text/html": "<div>\n<style scoped>\n    .dataframe tbody tr th:only-of-type {\n        vertical-align: middle;\n    }\n\n    .dataframe tbody tr th {\n        vertical-align: top;\n    }\n\n    .dataframe thead th {\n        text-align: right;\n    }\n</style>\n<table border=\"1\" class=\"dataframe\">\n  <thead>\n    <tr style=\"text-align: right;\">\n      <th></th>\n      <th>Sample Index</th>\n      <th>EXG Channel 0</th>\n      <th>EXG Channel 1</th>\n      <th>EXG Channel 2</th>\n      <th>EXG Channel 3</th>\n      <th>EXG Channel 4</th>\n      <th>EXG Channel 5</th>\n      <th>EXG Channel 6</th>\n      <th>EXG Channel 7</th>\n      <th>Timestamp</th>\n      <th>Timestamp Formatted</th>\n    </tr>\n  </thead>\n  <tbody>\n    <tr>\n      <th>0</th>\n      <td>0.0</td>\n      <td>0.000000</td>\n      <td>0.000000</td>\n      <td>0.000000</td>\n      <td>0.000000</td>\n      <td>0.000000</td>\n      <td>0.000000</td>\n      <td>0.000000</td>\n      <td>0.000000</td>\n      <td>1.699550e+09</td>\n      <td>2023-11-09 20:10:31.202</td>\n    </tr>\n    <tr>\n      <th>1</th>\n      <td>1.0</td>\n      <td>39600.518596</td>\n      <td>47848.200542</td>\n      <td>32193.888091</td>\n      <td>36826.264778</td>\n      <td>79920.316329</td>\n      <td>37740.898161</td>\n      <td>-187500.022352</td>\n      <td>-187500.022352</td>\n      <td>1.699550e+09</td>\n      <td>2023-11-09 20:10:31.252</td>\n    </tr>\n    <tr>\n      <th>2</th>\n      <td>2.0</td>\n      <td>39605.860663</td>\n      <td>47849.049908</td>\n      <td>32199.096048</td>\n      <td>36827.248255</td>\n      <td>79924.540809</td>\n      <td>37748.229533</td>\n      <td>-187500.022352</td>\n      <td>-187500.022352</td>\n      <td>1.699550e+09</td>\n      <td>2023-11-09 20:10:31.252</td>\n    </tr>\n    <tr>\n      <th>3</th>\n      <td>3.0</td>\n      <td>39613.326146</td>\n      <td>47839.505713</td>\n      <td>32192.658745</td>\n      <td>36832.210342</td>\n      <td>79928.742937</td>\n      <td>37831.690947</td>\n      <td>-187500.022352</td>\n      <td>-187500.022352</td>\n      <td>1.699550e+09</td>\n      <td>2023-11-09 20:10:31.252</td>\n    </tr>\n    <tr>\n      <th>4</th>\n      <td>4.0</td>\n      <td>39613.907291</td>\n      <td>47830.497960</td>\n      <td>32185.483835</td>\n      <td>36832.456211</td>\n      <td>79924.227884</td>\n      <td>37858.803613</td>\n      <td>-187500.022352</td>\n      <td>-187500.022352</td>\n      <td>1.699550e+09</td>\n      <td>2023-11-09 20:10:31.252</td>\n    </tr>\n    <tr>\n      <th>...</th>\n      <td>...</td>\n      <td>...</td>\n      <td>...</td>\n      <td>...</td>\n      <td>...</td>\n      <td>...</td>\n      <td>...</td>\n      <td>...</td>\n      <td>...</td>\n      <td>...</td>\n      <td>...</td>\n    </tr>\n    <tr>\n      <th>995</th>\n      <td>207.0</td>\n      <td>38903.948832</td>\n      <td>47795.428073</td>\n      <td>32158.929963</td>\n      <td>37448.023253</td>\n      <td>79188.408457</td>\n      <td>37159.663398</td>\n      <td>-187500.022352</td>\n      <td>-187500.022352</td>\n      <td>1.699550e+09</td>\n      <td>2023-11-09 20:10:39.327</td>\n    </tr>\n    <tr>\n      <th>996</th>\n      <td>208.0</td>\n      <td>38910.944928</td>\n      <td>47801.016009</td>\n      <td>32178.554795</td>\n      <td>37459.400291</td>\n      <td>79196.522140</td>\n      <td>37150.454480</td>\n      <td>-187500.022352</td>\n      <td>-187500.022352</td>\n      <td>1.699550e+09</td>\n      <td>2023-11-09 20:10:39.343</td>\n    </tr>\n    <tr>\n      <th>997</th>\n      <td>209.0</td>\n      <td>38917.136361</td>\n      <td>47811.074294</td>\n      <td>32173.279783</td>\n      <td>37475.560603</td>\n      <td>79204.926396</td>\n      <td>37227.120963</td>\n      <td>-187500.022352</td>\n      <td>-187500.022352</td>\n      <td>1.699550e+09</td>\n      <td>2023-11-09 20:10:39.375</td>\n    </tr>\n    <tr>\n      <th>998</th>\n      <td>210.0</td>\n      <td>38936.940007</td>\n      <td>47813.644745</td>\n      <td>32165.479024</td>\n      <td>37484.881280</td>\n      <td>79217.376318</td>\n      <td>37294.176196</td>\n      <td>-187500.022352</td>\n      <td>-187500.022352</td>\n      <td>1.699550e+09</td>\n      <td>2023-11-09 20:10:39.375</td>\n    </tr>\n    <tr>\n      <th>999</th>\n      <td>211.0</td>\n      <td>38912.107219</td>\n      <td>47800.054884</td>\n      <td>32154.191393</td>\n      <td>37467.268105</td>\n      <td>79196.768009</td>\n      <td>37252.780766</td>\n      <td>-187500.022352</td>\n      <td>-187500.022352</td>\n      <td>1.699550e+09</td>\n      <td>2023-11-09 20:10:39.391</td>\n    </tr>\n  </tbody>\n</table>\n<p>1000 rows × 11 columns</p>\n</div>"
     },
     "execution_count": 61,
     "metadata": {},
     "output_type": "execute_result"
    }
   ],
   "source": [
    "df.head(n=1000)"
   ],
   "metadata": {
    "collapsed": false,
    "ExecuteTime": {
     "end_time": "2023-12-04T12:48:11.699111800Z",
     "start_time": "2023-12-04T12:48:11.685453800Z"
    }
   },
   "id": "c6d5d0d7c806c95e"
  },
  {
   "cell_type": "code",
   "execution_count": 62,
   "outputs": [],
   "source": [
    "df = df.drop([\"Sample Index\"], axis=1)\n",
    "df = df.drop([\"EXG Channel 6\"], axis=1)\n",
    "df = df.drop([\"EXG Channel 7\"], axis=1)\n",
    "df = df.drop([\"Timestamp\"], axis=1)\n",
    "df = df.drop([\"Timestamp Formatted\"], axis=1)"
   ],
   "metadata": {
    "collapsed": false,
    "ExecuteTime": {
     "end_time": "2023-12-04T12:48:14.526253200Z",
     "start_time": "2023-12-04T12:48:14.514505900Z"
    }
   },
   "id": "9fb9793c099b73ce"
  },
  {
   "cell_type": "code",
   "execution_count": 63,
   "outputs": [
    {
     "data": {
      "text/plain": "   EXG Channel 0  EXG Channel 1  EXG Channel 2  EXG Channel 3  EXG Channel 4  \\\n0       0.000000       0.000000       0.000000       0.000000       0.000000   \n1   39600.518596   47848.200542   32193.888091   36826.264778   79920.316329   \n2   39605.860663   47849.049908   32199.096048   36827.248255   79924.540809   \n3   39613.326146   47839.505713   32192.658745   36832.210342   79928.742937   \n4   39613.907291   47830.497960   32185.483835   36832.456211   79924.227884   \n\n   EXG Channel 5  \n0       0.000000  \n1   37740.898161  \n2   37748.229533  \n3   37831.690947  \n4   37858.803613  ",
      "text/html": "<div>\n<style scoped>\n    .dataframe tbody tr th:only-of-type {\n        vertical-align: middle;\n    }\n\n    .dataframe tbody tr th {\n        vertical-align: top;\n    }\n\n    .dataframe thead th {\n        text-align: right;\n    }\n</style>\n<table border=\"1\" class=\"dataframe\">\n  <thead>\n    <tr style=\"text-align: right;\">\n      <th></th>\n      <th>EXG Channel 0</th>\n      <th>EXG Channel 1</th>\n      <th>EXG Channel 2</th>\n      <th>EXG Channel 3</th>\n      <th>EXG Channel 4</th>\n      <th>EXG Channel 5</th>\n    </tr>\n  </thead>\n  <tbody>\n    <tr>\n      <th>0</th>\n      <td>0.000000</td>\n      <td>0.000000</td>\n      <td>0.000000</td>\n      <td>0.000000</td>\n      <td>0.000000</td>\n      <td>0.000000</td>\n    </tr>\n    <tr>\n      <th>1</th>\n      <td>39600.518596</td>\n      <td>47848.200542</td>\n      <td>32193.888091</td>\n      <td>36826.264778</td>\n      <td>79920.316329</td>\n      <td>37740.898161</td>\n    </tr>\n    <tr>\n      <th>2</th>\n      <td>39605.860663</td>\n      <td>47849.049908</td>\n      <td>32199.096048</td>\n      <td>36827.248255</td>\n      <td>79924.540809</td>\n      <td>37748.229533</td>\n    </tr>\n    <tr>\n      <th>3</th>\n      <td>39613.326146</td>\n      <td>47839.505713</td>\n      <td>32192.658745</td>\n      <td>36832.210342</td>\n      <td>79928.742937</td>\n      <td>37831.690947</td>\n    </tr>\n    <tr>\n      <th>4</th>\n      <td>39613.907291</td>\n      <td>47830.497960</td>\n      <td>32185.483835</td>\n      <td>36832.456211</td>\n      <td>79924.227884</td>\n      <td>37858.803613</td>\n    </tr>\n  </tbody>\n</table>\n</div>"
     },
     "execution_count": 63,
     "metadata": {},
     "output_type": "execute_result"
    }
   ],
   "source": [
    "df.head()"
   ],
   "metadata": {
    "collapsed": false,
    "ExecuteTime": {
     "end_time": "2023-12-04T12:48:15.650249600Z",
     "start_time": "2023-12-04T12:48:15.636934300Z"
    }
   },
   "id": "3a558343d1f20832"
  },
  {
   "cell_type": "code",
   "execution_count": 64,
   "outputs": [
    {
     "data": {
      "text/plain": "             O1           Fp1            O2           Fp2            P8  \\\n0      0.000000      0.000000      0.000000      0.000000      0.000000   \n1  39600.518596  47848.200542  32193.888091  36826.264778  79920.316329   \n2  39605.860663  47849.049908  32199.096048  36827.248255  79924.540809   \n3  39613.326146  47839.505713  32192.658745  36832.210342  79928.742937   \n4  39613.907291  47830.497960  32185.483835  36832.456211  79924.227884   \n\n             F7  \n0      0.000000  \n1  37740.898161  \n2  37748.229533  \n3  37831.690947  \n4  37858.803613  ",
      "text/html": "<div>\n<style scoped>\n    .dataframe tbody tr th:only-of-type {\n        vertical-align: middle;\n    }\n\n    .dataframe tbody tr th {\n        vertical-align: top;\n    }\n\n    .dataframe thead th {\n        text-align: right;\n    }\n</style>\n<table border=\"1\" class=\"dataframe\">\n  <thead>\n    <tr style=\"text-align: right;\">\n      <th></th>\n      <th>O1</th>\n      <th>Fp1</th>\n      <th>O2</th>\n      <th>Fp2</th>\n      <th>P8</th>\n      <th>F7</th>\n    </tr>\n  </thead>\n  <tbody>\n    <tr>\n      <th>0</th>\n      <td>0.000000</td>\n      <td>0.000000</td>\n      <td>0.000000</td>\n      <td>0.000000</td>\n      <td>0.000000</td>\n      <td>0.000000</td>\n    </tr>\n    <tr>\n      <th>1</th>\n      <td>39600.518596</td>\n      <td>47848.200542</td>\n      <td>32193.888091</td>\n      <td>36826.264778</td>\n      <td>79920.316329</td>\n      <td>37740.898161</td>\n    </tr>\n    <tr>\n      <th>2</th>\n      <td>39605.860663</td>\n      <td>47849.049908</td>\n      <td>32199.096048</td>\n      <td>36827.248255</td>\n      <td>79924.540809</td>\n      <td>37748.229533</td>\n    </tr>\n    <tr>\n      <th>3</th>\n      <td>39613.326146</td>\n      <td>47839.505713</td>\n      <td>32192.658745</td>\n      <td>36832.210342</td>\n      <td>79928.742937</td>\n      <td>37831.690947</td>\n    </tr>\n    <tr>\n      <th>4</th>\n      <td>39613.907291</td>\n      <td>47830.497960</td>\n      <td>32185.483835</td>\n      <td>36832.456211</td>\n      <td>79924.227884</td>\n      <td>37858.803613</td>\n    </tr>\n  </tbody>\n</table>\n</div>"
     },
     "execution_count": 64,
     "metadata": {},
     "output_type": "execute_result"
    }
   ],
   "source": [
    "\n",
    "df.columns = ['O1' , 'Fp1', 'O2', 'Fp2', 'P8', 'F7']\n",
    "df.head()"
   ],
   "metadata": {
    "collapsed": false,
    "ExecuteTime": {
     "end_time": "2023-12-04T12:49:20.626785200Z",
     "start_time": "2023-12-04T12:49:20.610266800Z"
    }
   },
   "id": "aa70839ead02ab2"
  },
  {
   "cell_type": "code",
   "execution_count": 65,
   "outputs": [],
   "source": [
    "def df_to_raw(df):\n",
    "    sfreq = 255  #our OpenBCI headset sampling rate\n",
    "    ch_names = list(df.columns)\n",
    "    ch_types = ['eeg'] * (len(df.columns) - 1) + ['stim']\n",
    "    ten_twenty_montage = mne.channels.make_standard_montage('standard_1020')\n",
    "\n",
    "    df = df.T  #mne looks at the tranpose() format\n",
    "    df[:-1] *= 1e-6  #convert from uVolts to Volts (mne assumes Volts data)\n",
    "\n",
    "    info = create_info(ch_names=ch_names, ch_types=ch_types, sfreq=sfreq)\n",
    "\n",
    "    raw = mne.io.RawArray(df, info)\n",
    "    raw.set_montage(ten_twenty_montage)\n",
    "\n",
    "    #try plotting the raw data of its power spectral density\n",
    "    raw.compute_psd().plot()\n",
    "\n",
    "    return raw"
   ],
   "metadata": {
    "collapsed": false,
    "ExecuteTime": {
     "end_time": "2023-12-04T12:49:23.443854700Z",
     "start_time": "2023-12-04T12:49:23.430536100Z"
    }
   },
   "id": "51d894325cc9f9bb"
  },
  {
   "cell_type": "code",
   "execution_count": 66,
   "outputs": [
    {
     "name": "stdout",
     "output_type": "stream",
     "text": [
      "Creating RawArray with float64 data, n_channels=6, n_times=90981\n",
      "    Range : 0 ... 90980 =      0.000 ...   356.784 secs\n",
      "Ready.\n",
      "Effective window size : 8.031 (s)\n"
     ]
    },
    {
     "name": "stderr",
     "output_type": "stream",
     "text": [
      "C:\\Users\\newYa\\AppData\\Local\\Temp\\ipykernel_2308\\2824952393.py:13: RuntimeWarning: Not setting position of 1 stim channel found in montage:\n",
      "['F7']\n",
      "Consider setting the channel types to be of EEG/sEEG/ECoG/DBS/fNIRS using inst.set_channel_types before calling inst.set_montage, or omit these channels when creating your montage.\n",
      "  raw.set_montage(ten_twenty_montage)\n",
      "C:\\Users\\newYa\\anaconda3\\Lib\\site-packages\\mne\\viz\\utils.py:165: UserWarning: Matplotlib is currently using module://matplotlib_inline.backend_inline, which is a non-GUI backend, so cannot show the figure.\n",
      "  (fig or plt).show(**kwargs)\n"
     ]
    }
   ],
   "source": [
    "raw = df_to_raw(df)"
   ],
   "metadata": {
    "collapsed": false,
    "ExecuteTime": {
     "end_time": "2023-12-04T12:49:24.433969Z",
     "start_time": "2023-12-04T12:49:24.312644100Z"
    }
   },
   "id": "c516bc9d14ee662f"
  },
  {
   "cell_type": "code",
   "execution_count": 67,
   "outputs": [
    {
     "name": "stdout",
     "output_type": "stream",
     "text": [
      "Effective window size : 8.031 (s)\n"
     ]
    }
   ],
   "source": [
    "def get_freq(info):\n",
    "    raw = info\n",
    "    power, freq = raw.compute_psd().get_data(return_freqs=True)\n",
    "    return freq\n",
    "\n",
    "\n",
    "freq = get_freq(raw)"
   ],
   "metadata": {
    "collapsed": false,
    "ExecuteTime": {
     "end_time": "2023-12-04T12:49:32.604512500Z",
     "start_time": "2023-12-04T12:49:32.571989900Z"
    }
   },
   "id": "9a64148038915a43"
  },
  {
   "cell_type": "code",
   "execution_count": 68,
   "outputs": [
    {
     "name": "stdout",
     "output_type": "stream",
     "text": [
      "[array([ 9, 10, 11, 12, 13, 14, 15, 16, 17, 18, 19, 20, 21, 22, 23, 24],\n",
      "       dtype=int64)\n",
      " array([33, 34, 35, 36, 37, 38, 39, 40, 41, 42, 43, 44, 45, 46, 47, 48, 49,\n",
      "        50, 51, 52, 53, 54, 55, 56], dtype=int64)\n",
      " array([65, 66, 67, 68, 69, 70, 71, 72, 73, 74, 75, 76, 77, 78, 79, 80, 81,\n",
      "        82, 83, 84, 85, 86, 87, 88, 89, 90, 91, 92, 93, 94, 95, 96],\n",
      "       dtype=int64)\n",
      " array([105, 106, 107, 108, 109, 110, 111, 112, 113, 114, 115, 116, 117,\n",
      "        118, 119, 120, 121, 122, 123, 124, 125, 126, 127, 128, 129, 130,\n",
      "        131, 132, 133, 134, 135, 136, 137, 138, 139, 140, 141, 142, 143,\n",
      "        144, 145, 146, 147, 148, 149, 150, 151, 152, 153, 154, 155, 156,\n",
      "        157, 158, 159, 160, 161, 162, 163, 164, 165, 166, 167, 168, 169,\n",
      "        170, 171, 172, 173, 174, 175, 176, 177, 178, 179, 180, 181, 182,\n",
      "        183, 184, 185, 186, 187, 188, 189, 190, 191, 192, 193, 194, 195,\n",
      "        196, 197, 198, 199, 200, 201, 202, 203, 204, 205, 206, 207, 208,\n",
      "        209, 210, 211, 212, 213, 214, 215, 216, 217, 218, 219, 220, 221,\n",
      "        222, 223, 224, 225, 226, 227, 228, 229, 230, 231, 232, 233, 234,\n",
      "        235, 236, 237, 238, 239, 240], dtype=int64)\n",
      " array([241, 242, 243, 244, 245, 246, 247, 248, 249, 250, 251, 252, 253,\n",
      "        254, 255, 256, 257, 258, 259, 260, 261, 262, 263, 264, 265, 266,\n",
      "        267, 268, 269, 270, 271, 272, 273, 274, 275, 276, 277, 278, 279,\n",
      "        280, 281, 282, 283, 284, 285, 286, 287, 288, 289, 290, 291, 292,\n",
      "        293, 294, 295, 296, 297, 298, 299, 300, 301, 302, 303, 304, 305,\n",
      "        306, 307, 308, 309, 310, 311, 312, 313, 314, 315, 316, 317, 318,\n",
      "        319, 320, 321, 322, 323, 324, 325, 326, 327, 328, 329, 330, 331,\n",
      "        332, 333, 334, 335, 336, 337, 338, 339, 340, 341, 342, 343, 344,\n",
      "        345], dtype=int64)\n",
      " array([ 33,  34,  35,  36,  37,  38,  39,  40,  41,  42,  43,  44,  45,\n",
      "         46,  47,  48,  49,  50,  51,  52,  53,  54,  55,  56,  57,  58,\n",
      "         59,  60,  61,  62,  63,  64,  65,  66,  67,  68,  69,  70,  71,\n",
      "         72,  73,  74,  75,  76,  77,  78,  79,  80,  81,  82,  83,  84,\n",
      "         85,  86,  87,  88,  89,  90,  91,  92,  93,  94,  95,  96,  97,\n",
      "         98,  99, 100, 101, 102, 103, 104], dtype=int64)\n",
      " array([105, 106, 107, 108, 109, 110, 111, 112, 113, 114, 115, 116, 117,\n",
      "        118, 119, 120, 121, 122, 123, 124, 125, 126, 127, 128, 129, 130,\n",
      "        131, 132, 133, 134, 135, 136], dtype=int64)                     ]\n"
     ]
    },
    {
     "name": "stderr",
     "output_type": "stream",
     "text": [
      "C:\\Users\\newYa\\AppData\\Local\\Temp\\ipykernel_2308\\2736347850.py:9: VisibleDeprecationWarning: Creating an ndarray from ragged nested sequences (which is a list-or-tuple of lists-or-tuples-or ndarrays with different lengths or shapes) is deprecated. If you meant to do this, you must specify 'dtype=object' when creating the ndarray.\n",
      "  bands = np.array(bands)\n"
     ]
    }
   ],
   "source": [
    "band_names = np.array(['Delta', 'Theta', 'Alpha', 'Beta', 'Gamma', 'Slow', 'Low_beta'])\n",
    "filter_list = [[1,3],[4,7],[8,12],[13,30],[30,43], [4,13], [13,17]]\n",
    "# band_names = np.array(['Delta', 'Theta', 'Alpha', 'Slow', 'Low_beta'])\n",
    "# filter_list = [[1,3],[4,7],[8,12], [4,13], [13,17]]\n",
    "bands = []\n",
    "for filt in filter_list:\n",
    "    pt = np.argwhere((freq >= filt[0]) & (freq <= filt[1])).reshape(-1)\n",
    "    bands.append(pt)\n",
    "bands = np.array(bands)\n",
    "print(bands)"
   ],
   "metadata": {
    "collapsed": false,
    "ExecuteTime": {
     "end_time": "2023-12-04T12:49:33.216477800Z",
     "start_time": "2023-12-04T12:49:33.207388600Z"
    }
   },
   "id": "68a90ff437c0cbe"
  },
  {
   "cell_type": "code",
   "execution_count": 13,
   "outputs": [
    {
     "name": "stdout",
     "output_type": "stream",
     "text": [
      "Effective window size : 8.031 (s)\n"
     ]
    }
   ],
   "source": [
    "import mne\n",
    "\n",
    "power,freq = raw.compute_psd().get_data(return_freqs=True)\n",
    "data = power.mean(axis=1).reshape(1,-1)"
   ],
   "metadata": {
    "collapsed": false,
    "ExecuteTime": {
     "end_time": "2023-12-04T12:40:25.550803Z",
     "start_time": "2023-12-04T12:40:25.512529600Z"
    }
   },
   "id": "222ec3e5a140cea1"
  },
  {
   "cell_type": "code",
   "execution_count": 58,
   "outputs": [],
   "source": [
    "a_fp1, a_fp2 = None, None\n",
    "a_t7, a_t8 = None, None\n",
    "b_f3, b_f4 = None, None\n",
    "b_t7, b_t8 = None, None"
   ],
   "metadata": {
    "collapsed": false,
    "ExecuteTime": {
     "end_time": "2023-12-04T12:47:10.165756700Z",
     "start_time": "2023-12-04T12:47:10.159474500Z"
    }
   },
   "id": "814023a373480b76"
  },
  {
   "cell_type": "code",
   "execution_count": 69,
   "outputs": [
    {
     "name": "stdout",
     "output_type": "stream",
     "text": [
      "Effective window size : 8.031 (s)\n",
      "alpha_frontal [[0.1746]]\n",
      "alpha_temportal [[-0.1496]]\n",
      "alpha_asymmetry [[0.025]]\n"
     ]
    }
   ],
   "source": [
    "for index, band in enumerate(bands):\n",
    "    if(band_names[index] == 'Alpha'):\n",
    "        power,freq = raw.compute_psd().get_data(return_freqs=True)\n",
    "        data = power[::,band].mean(axis=1).reshape(1,-1)\n",
    "\n",
    "        a_fp1 = data[:,raw.ch_names.index('Fp1')]\n",
    "        a_fp2= data[:,raw.ch_names.index('Fp2')]\n",
    "\n",
    "        alpha_frontal = ((a_fp2 - a_fp1) / (a_fp2 + a_fp1)).reshape(1,-1)\n",
    "\n",
    "        a_o1 = data[:,raw.ch_names.index('O1')]\n",
    "        a_02 = data[:,raw.ch_names.index('O2')]\n",
    "\n",
    "        alpha_temporal = ((a_02 - a_o1) / (a_02 + a_o1)).reshape(1,-1)\n",
    "\n",
    "        alpha_asymmetry = alpha_frontal + alpha_temporal\n",
    "\n",
    "\n",
    "\n",
    "        print(f'alpha_frontal {alpha_frontal}')\n",
    "        print(f'alpha_temportal {alpha_temporal}')\n",
    "        print(f'alpha_asymmetry {alpha_asymmetry}')"
   ],
   "metadata": {
    "collapsed": false,
    "ExecuteTime": {
     "end_time": "2023-12-04T12:49:38.749403500Z",
     "start_time": "2023-12-04T12:49:38.722615600Z"
    }
   },
   "id": "7891f9e9472da96a"
  },
  {
   "cell_type": "code",
   "execution_count": 178,
   "outputs": [],
   "source": [
    "a_fp1 = data[:,raw.ch_names.index('Fp1')]\n",
    "a_fp2= data[:,raw.ch_names.index('Fp2')]"
   ],
   "metadata": {
    "collapsed": false,
    "ExecuteTime": {
     "end_time": "2023-12-04T12:27:20.605804800Z",
     "start_time": "2023-12-04T12:27:20.599790500Z"
    }
   },
   "id": "c0941c81afa37ace"
  },
  {
   "cell_type": "code",
   "execution_count": 179,
   "outputs": [],
   "source": [
    "alpha_frontal = ((a_fp2 - a_fp1) / (a_fp2 + a_fp1)).reshape(1,-1)"
   ],
   "metadata": {
    "collapsed": false,
    "ExecuteTime": {
     "end_time": "2023-12-04T12:27:22.333924800Z",
     "start_time": "2023-12-04T12:27:22.316848300Z"
    }
   },
   "id": "75b53c6acfb540de"
  },
  {
   "cell_type": "code",
   "execution_count": 180,
   "outputs": [
    {
     "name": "stdout",
     "output_type": "stream",
     "text": [
      "alpha_frontal [[0.7444]]\n"
     ]
    }
   ],
   "source": [
    "print(f'alpha_frontal {alpha_frontal}')"
   ],
   "metadata": {
    "collapsed": false,
    "ExecuteTime": {
     "end_time": "2023-12-04T12:27:22.832278800Z",
     "start_time": "2023-12-04T12:27:22.820762700Z"
    }
   },
   "id": "ee2edc89583ac6c0"
  },
  {
   "cell_type": "code",
   "execution_count": 181,
   "outputs": [],
   "source": [
    "a_o1 = data[:,raw.ch_names.index('O1')]\n",
    "a_02 = data[:,raw.ch_names.index('O2')]"
   ],
   "metadata": {
    "collapsed": false,
    "ExecuteTime": {
     "end_time": "2023-12-04T12:27:23.389735200Z",
     "start_time": "2023-12-04T12:27:23.379723800Z"
    }
   },
   "id": "f6b60004ca8bb6d6"
  },
  {
   "cell_type": "code",
   "execution_count": 182,
   "outputs": [
    {
     "name": "stdout",
     "output_type": "stream",
     "text": [
      "alpha_temportal [[-0.9763]]\n"
     ]
    }
   ],
   "source": [
    "alpha_temporal = ((a_02 - a_o1) / (a_02 + a_o1)).reshape(1,-1)\n",
    "print(f'alpha_temportal {alpha_temporal}')"
   ],
   "metadata": {
    "collapsed": false,
    "ExecuteTime": {
     "end_time": "2023-12-04T12:27:23.872988800Z",
     "start_time": "2023-12-04T12:27:23.863433300Z"
    }
   },
   "id": "9ea28330a17d9b5d"
  },
  {
   "cell_type": "code",
   "execution_count": 183,
   "outputs": [
    {
     "name": "stdout",
     "output_type": "stream",
     "text": [
      "alpha_asymmetry [[-0.2319]]\n"
     ]
    }
   ],
   "source": [
    "alpha_asymmetry = alpha_frontal + alpha_temporal\n",
    "print(f'alpha_asymmetry {alpha_asymmetry}')"
   ],
   "metadata": {
    "collapsed": false,
    "ExecuteTime": {
     "end_time": "2023-12-04T12:27:24.340461400Z",
     "start_time": "2023-12-04T12:27:24.330950600Z"
    }
   },
   "id": "a60375c5a48858ef"
  },
  {
   "cell_type": "code",
   "execution_count": null,
   "outputs": [],
   "source": [],
   "metadata": {
    "collapsed": false
   },
   "id": "768348b4e51e224c"
  }
 ],
 "metadata": {
  "kernelspec": {
   "display_name": "Python 3",
   "language": "python",
   "name": "python3"
  },
  "language_info": {
   "codemirror_mode": {
    "name": "ipython",
    "version": 2
   },
   "file_extension": ".py",
   "mimetype": "text/x-python",
   "name": "python",
   "nbconvert_exporter": "python",
   "pygments_lexer": "ipython2",
   "version": "2.7.6"
  }
 },
 "nbformat": 4,
 "nbformat_minor": 5
}
